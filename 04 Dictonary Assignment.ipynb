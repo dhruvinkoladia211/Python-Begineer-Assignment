{
 "cells": [
  {
   "cell_type": "markdown",
   "metadata": {},
   "source": [
    "## Python Data Types: Dictionary"
   ]
  },
  {
   "cell_type": "markdown",
   "metadata": {},
   "source": [
    "#### 1. Write a Python script to generate and print a dictionary that contains a number (between 1 and n) in the form (x, x*x)\n",
    "* Sample Dictionary ( n = 5) : \n",
    "* Expected Output : {1: 1, 2: 4, 3: 9, 4: 16, 5: 25}\n"
   ]
  },
  {
   "cell_type": "code",
   "execution_count": 1,
   "metadata": {},
   "outputs": [
    {
     "name": "stdout",
     "output_type": "stream",
     "text": [
      "{1: 1, 2: 4, 3: 9, 4: 16, 5: 25}\n"
     ]
    }
   ],
   "source": [
    "dict1 = {}\n",
    "# n=int(input('Input a number: '))\n",
    "n=5\n",
    "for i in range(1,n+1):\n",
    "    dict1[i]=i*i\n",
    "print(dict1)    "
   ]
  },
  {
   "cell_type": "markdown",
   "metadata": {
    "collapsed": true
   },
   "source": [
    "#### 2. Write a Python program to combine two dictionary adding values for common keys\n",
    "* d1 = {'a': 100, 'b': 200, 'c':300}\n",
    "* d2 = {'a': 300, 'b': 200, 'd':400}\n",
    "* Sample output: Counter({'a': 400, 'b': 400, 'd': 400, 'c': 300})"
   ]
  },
  {
   "cell_type": "code",
   "execution_count": 30,
   "metadata": {},
   "outputs": [
    {
     "name": "stdout",
     "output_type": "stream",
     "text": [
      "Dictionary is  {'a': 400, 'b': 400, 'd': 400, 'c': 300}\n"
     ]
    }
   ],
   "source": [
    "d1 = {'a': 100, 'b': 200, 'c':300}\n",
    "d2 = {'a': 300, 'b': 200, 'd':400}\n",
    "for key,value in d1.items():\n",
    "    if key in d2:\n",
    "        d2[key]+=value\n",
    "    else:\n",
    "        d2[key]=value\n",
    "print('Dictionary is ',d2)        \n",
    "        "
   ]
  },
  {
   "cell_type": "markdown",
   "metadata": {},
   "source": [
    "#### 3. Write a Python program to print all unique values in a dictionary\n",
    "* Sample Data : [{\"V\":\"S001\"}, {\"V\": \"S002\"}, {\"VI\": \"S001\"}, {\"VI\": \"S005\"}, {\"VII\":\"S005\"}, {\"V\":\"S009\"},{\"VIII\":\"S007\"}]\n",
    "* Expected Output : Unique Values: {'S005', 'S002', 'S007', 'S001', 'S009'}"
   ]
  },
  {
   "cell_type": "code",
   "execution_count": 2,
   "metadata": {},
   "outputs": [
    {
     "name": "stdout",
     "output_type": "stream",
     "text": [
      "{'S007', 'S002', 'S009', 'S005', 'S001'}\n"
     ]
    }
   ],
   "source": [
    "list1 =  [{\"V\":\"S001\"}, {\"V\": \"S002\"}, {\"VI\": \"S001\"}, {\"VI\": \"S005\"}, {\"VII\":\"S005\"}, {\"V\":\"S009\"},{\"VIII\":\"S007\"}]\n",
    "li = []\n",
    "for val in list1:\n",
    "    li.extend(val.values())\n",
    "print(set(li))    "
   ]
  },
  {
   "cell_type": "markdown",
   "metadata": {},
   "source": [
    "#### 4. Write a Python program to create and display all combinations of letters, selecting each letter from a different key in a dictionary.\n",
    "* Sample data : {'1':['a','b'], '2':['c','d']}\n",
    "###### Expected Output: \n",
    "ac\n",
    "ad\n",
    "bc\n",
    "bd"
   ]
  },
  {
   "cell_type": "code",
   "execution_count": 21,
   "metadata": {},
   "outputs": [
    {
     "name": "stdout",
     "output_type": "stream",
     "text": [
      "ac ad bc bd "
     ]
    }
   ],
   "source": [
    "sample = {'1':['a','b'], '2':['c','d']}\n",
    "value = list(sample.values())\n",
    "for i in value[0]:\n",
    "    for j in value[1]:\n",
    "        print(i+j,end=\" \")"
   ]
  },
  {
   "cell_type": "markdown",
   "metadata": {},
   "source": [
    "#### 5. Write a Python program to create a dictionary from a string.\n",
    "* Note: Track the count of the letters from the string.\n",
    "* Sample string : 'w3resource'\n",
    "* Expected output: {'3': 1, 's': 1, 'r': 2, 'u': 1, 'w': 1, 'c': 1, 'e': 2, 'o': 1}"
   ]
  },
  {
   "cell_type": "code",
   "execution_count": 23,
   "metadata": {},
   "outputs": [
    {
     "name": "stdout",
     "output_type": "stream",
     "text": [
      "{'w': 1, '3': 1, 'r': 2, 'e': 2, 's': 2, 'o': 1, 'u': 1, 'c': 1}\n"
     ]
    }
   ],
   "source": [
    "dict1={}\n",
    "samplestr = 'w3resources'\n",
    "for char in samplestr:\n",
    "    if char not in dict1:\n",
    "        dict1[char]=1\n",
    "    else:\n",
    "        dict1[char]+=1\n",
    "print(dict1)        "
   ]
  },
  {
   "cell_type": "markdown",
   "metadata": {},
   "source": [
    "#### 6. Write a Python program to count the values associated with key in a dictionary.\n",
    "* Sample data: = [{'id': 1, 'success': True, 'name': 'Lary'}, {'id': 2, 'success': False, 'name': 'Rabi'}, {'id': 3, 'success': True, 'name': 'Alex'}]\n",
    "* Expected result: Count of how many dictionaries have success as True"
   ]
  },
  {
   "cell_type": "code",
   "execution_count": 15,
   "metadata": {},
   "outputs": [
    {
     "name": "stdout",
     "output_type": "stream",
     "text": [
      "How many dictionaries have success as True: 2\n"
     ]
    }
   ],
   "source": [
    "sample =  [{'id': 1, 'success': True, 'name': 'Lary'}, {'id': 2, 'success': False, 'name': 'Rabi'}, {'id': 3, 'success': True, 'name': 'Alex'}]\n",
    "count=0\n",
    "for i in sample:\n",
    "    if i['success']==True:\n",
    "        count+=1\n",
    "print('How many dictionaries have success as True:',count)        "
   ]
  },
  {
   "cell_type": "markdown",
   "metadata": {},
   "source": [
    "#### 7. Write a Python program to convert a list into a nested dictionary of keys."
   ]
  },
  {
   "cell_type": "code",
   "execution_count": 96,
   "metadata": {},
   "outputs": [
    {
     "name": "stdout",
     "output_type": "stream",
     "text": [
      "{1: {2: {3: {4: {5: {}}}}}}\n"
     ]
    }
   ],
   "source": [
    "sample =[1,2,3,4,5]\n",
    "new_dict1 = dict1 = {}\n",
    "for val in sample:\n",
    "    dict1[val] ={}\n",
    "    dict1=dict1[val]\n",
    "print(new_dict1)    "
   ]
  },
  {
   "cell_type": "markdown",
   "metadata": {},
   "source": [
    "#### 8. Write a Python program to sort a list alphabetically in a dictionary."
   ]
  },
  {
   "cell_type": "code",
   "execution_count": 24,
   "metadata": {},
   "outputs": [
    {
     "data": {
      "text/plain": [
       "{'l1': [3, 4, 7], 'l2': [11, 12, 40], 'l3': [0, 9, 33], 'l4': [13, 17, 24]}"
      ]
     },
     "execution_count": 24,
     "metadata": {},
     "output_type": "execute_result"
    }
   ],
   "source": [
    "dict1 = {'l1':[3,4,7],'l2':[11,40,12],'l3':[33,0,9],'l4':[13,24,17]}\n",
    "sorted_dict = {}\n",
    "for key,value in dict1.items():\n",
    "    sorted_dict[key]=sorted(value)\n",
    "sorted_dict    "
   ]
  },
  {
   "cell_type": "markdown",
   "metadata": {},
   "source": [
    "#### 9. Write a Python program to sort Counter by value.\n",
    "* Sample data : {'Math':81, 'Physics':83, 'Chemistry':87}\n",
    "* Expected data: [('Chemistry', 87), ('Physics', 83), ('Math', 81)]"
   ]
  },
  {
   "cell_type": "code",
   "execution_count": 17,
   "metadata": {},
   "outputs": [
    {
     "name": "stdout",
     "output_type": "stream",
     "text": [
      "[('Chemistry', 87), ('Physics', 83), ('Math', 81)]\n"
     ]
    }
   ],
   "source": [
    "dict1 = {'Math':81, 'Physics':83, 'Chemistry':87}\n",
    "list1 = list(dict1.items())\n",
    "list1=[i[::-1] for i in list1]\n",
    "list1.sort(reverse=True)\n",
    "list1=[i[::-1] for i in list1]\n",
    "print(list1)"
   ]
  },
  {
   "cell_type": "markdown",
   "metadata": {},
   "source": [
    "#### 10. Write a Python program to match key values in two dictionaries. Go to the editor\n",
    "* Sample dictionary: {'key1': 1, 'key2': 3, 'key3': 2}, {'key1': 1, 'key2': 2}\n",
    "* Expected output: key1: 1 is present in both x and y"
   ]
  },
  {
   "cell_type": "code",
   "execution_count": 39,
   "metadata": {},
   "outputs": [
    {
     "name": "stdout",
     "output_type": "stream",
     "text": [
      "Present in both x and y  ('key1', 1)\n"
     ]
    }
   ],
   "source": [
    "d1 = {'key1': 1, 'key2': 3, 'key3': 2}\n",
    "d2 = {'key1': 1, 'key2': 2}\n",
    "for key,value in set(d1.items()) & set(d2.items()):\n",
    "    print('Present in both x and y ',(key,value)) "
   ]
  }
 ],
 "metadata": {
  "kernelspec": {
   "display_name": "Python 3 (ipykernel)",
   "language": "python",
   "name": "python3"
  },
  "language_info": {
   "codemirror_mode": {
    "name": "ipython",
    "version": 3
   },
   "file_extension": ".py",
   "mimetype": "text/x-python",
   "name": "python",
   "nbconvert_exporter": "python",
   "pygments_lexer": "ipython3",
   "version": "3.9.13"
  }
 },
 "nbformat": 4,
 "nbformat_minor": 2
}
