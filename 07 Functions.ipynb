{
 "cells": [
  {
   "cell_type": "markdown",
   "metadata": {},
   "source": [
    "### Python functions - Exercises"
   ]
  },
  {
   "cell_type": "markdown",
   "metadata": {},
   "source": [
    "#### 1. Write a Python function to find the Max of three numbers."
   ]
  },
  {
   "cell_type": "code",
   "execution_count": 6,
   "metadata": {},
   "outputs": [
    {
     "name": "stdout",
     "output_type": "stream",
     "text": [
      "786\n"
     ]
    }
   ],
   "source": [
    "def maximum(a,b,c):\n",
    "    if (a>=b) and (a>=c):\n",
    "        maxi=a\n",
    "    elif (b>=a) and (b>=c):\n",
    "        maxi=b\n",
    "    else:\n",
    "        maxi=c\n",
    "    return maxi\n",
    "\n",
    "a,b,c=12,45,786\n",
    "print(maximum(a,b,c))"
   ]
  },
  {
   "cell_type": "markdown",
   "metadata": {},
   "source": [
    "#### 2.  Write a Python function to sum all the numbers in a list"
   ]
  },
  {
   "cell_type": "code",
   "execution_count": 7,
   "metadata": {},
   "outputs": [
    {
     "data": {
      "text/plain": [
       "500"
      ]
     },
     "execution_count": 7,
     "metadata": {},
     "output_type": "execute_result"
    }
   ],
   "source": [
    "list1=[10,20,30,40,50,60,70,80,90,50]\n",
    "\n",
    "def summ(lst):\n",
    "    total=0\n",
    "    for i in lst:\n",
    "        total+=i\n",
    "    return total\n",
    "\n",
    "summ(list1)"
   ]
  },
  {
   "cell_type": "markdown",
   "metadata": {},
   "source": [
    "#### 3. Write a Python function to multiply all the numbers in a list"
   ]
  },
  {
   "cell_type": "code",
   "execution_count": 8,
   "metadata": {},
   "outputs": [
    {
     "data": {
      "text/plain": [
       "120"
      ]
     },
     "execution_count": 8,
     "metadata": {},
     "output_type": "execute_result"
    }
   ],
   "source": [
    "list1=[1,2,3,4,5]\n",
    "\n",
    "def multiply(lst):\n",
    "    total=1\n",
    "    for i in lst:\n",
    "        total*=i\n",
    "    return total\n",
    "    \n",
    "multiply(list1)"
   ]
  },
  {
   "cell_type": "markdown",
   "metadata": {},
   "source": [
    "#### 4. Write a Python function that accepts a string and calculate the number of upper case letters and lower case letters"
   ]
  },
  {
   "cell_type": "code",
   "execution_count": 9,
   "metadata": {},
   "outputs": [
    {
     "name": "stdout",
     "output_type": "stream",
     "text": [
      "total upper char: 6\n",
      "total lower char: 8\n"
     ]
    }
   ],
   "source": [
    "str1='HEllo HoW Are You'\n",
    "\n",
    "def string_check(string):\n",
    "    total={'upper':0,'lower':0}\n",
    "    for char in string:\n",
    "        if char.isupper():\n",
    "            total['upper']+=1\n",
    "        elif char.islower():\n",
    "            total['lower']+=1\n",
    "    print('total upper char:',total['upper'])\n",
    "    print('total lower char:',total['lower'])\n",
    "    \n",
    "string_check(str1)                   "
   ]
  },
  {
   "cell_type": "markdown",
   "metadata": {},
   "source": [
    "#### 5. Write a Python function that takes a list and returns a new list with unique elements of the first list"
   ]
  },
  {
   "cell_type": "code",
   "execution_count": 10,
   "metadata": {},
   "outputs": [
    {
     "data": {
      "text/plain": [
       "[1, 2, 3, 4, 55, 6, 7, 8, 9, 5, 12]"
      ]
     },
     "execution_count": 10,
     "metadata": {},
     "output_type": "execute_result"
    }
   ],
   "source": [
    "list1=[1,2,3,4,55,55,55,55,55,6,7,8,9,5,12,12,12,1]\n",
    "\n",
    "def unique_lst(lst):\n",
    "    new_list=[]\n",
    "    for x in lst:\n",
    "        if x not in new_list:\n",
    "            new_list.append(x)\n",
    "    return new_list\n",
    "\n",
    "unique_lst(list1)"
   ]
  },
  {
   "cell_type": "markdown",
   "metadata": {},
   "source": [
    "#### 6. Write a Python program to print the even numbers from a given list"
   ]
  },
  {
   "cell_type": "code",
   "execution_count": 11,
   "metadata": {},
   "outputs": [
    {
     "data": {
      "text/plain": [
       "[2, 4, 6, 8, 10, 12]"
      ]
     },
     "execution_count": 11,
     "metadata": {},
     "output_type": "execute_result"
    }
   ],
   "source": [
    "list1=[1,2,3,4,5,6,7,8,9,10,12]\n",
    "\n",
    "def getEven(lst):\n",
    "    for i in lst:\n",
    "        if i%2!=0:\n",
    "            lst.remove(i)\n",
    "    return lst\n",
    "    \n",
    "getEven(list1)    "
   ]
  },
  {
   "cell_type": "markdown",
   "metadata": {},
   "source": [
    "#### 7. Write a Python function that checks whether a passed string is palindrome or not"
   ]
  },
  {
   "cell_type": "code",
   "execution_count": 12,
   "metadata": {},
   "outputs": [
    {
     "name": "stdout",
     "output_type": "stream",
     "text": [
      "String is Palindrome\n"
     ]
    }
   ],
   "source": [
    "str1='Tenet'\n",
    "\n",
    "def Palindrome(s):\n",
    "    s=s.lower()\n",
    "    re=s[::-1]\n",
    "    if s==re:\n",
    "        print(\"String is Palindrome\")\n",
    "    else:\n",
    "        print('String is not Palindrome')\n",
    "        \n",
    "Palindrome(str1)        "
   ]
  },
  {
   "cell_type": "markdown",
   "metadata": {},
   "source": [
    "#### 8. Write a Python program to access a function inside a function"
   ]
  },
  {
   "cell_type": "code",
   "execution_count": 13,
   "metadata": {},
   "outputs": [
    {
     "data": {
      "text/plain": [
       "120"
      ]
     },
     "execution_count": 13,
     "metadata": {},
     "output_type": "execute_result"
    }
   ],
   "source": [
    "def factorial(number):\n",
    "    if not isinstance(number,int):\n",
    "        print(\"Please enter integer number\")\n",
    "    if number<0:\n",
    "        print(\"Number must be zero or positive integer\")\n",
    "    def inner_factorial():\n",
    "        factorial_num=1\n",
    "        if number==0:\n",
    "            return 1\n",
    "        else:\n",
    "            for i in range(1,number+1):\n",
    "                factorial_num*=i\n",
    "        return factorial_num\n",
    "    return inner_factorial()\n",
    "\n",
    "factorial(5)"
   ]
  },
  {
   "cell_type": "markdown",
   "metadata": {},
   "source": [
    "#### 9. Write a Python program to detect the number of local variables declared in a function."
   ]
  },
  {
   "cell_type": "code",
   "execution_count": 14,
   "metadata": {},
   "outputs": [
    {
     "name": "stdout",
     "output_type": "stream",
     "text": [
      "5\n"
     ]
    }
   ],
   "source": [
    "def detectlocal():\n",
    "    a=1\n",
    "    b=1.5\n",
    "    c='Hello'\n",
    "    d=[1,2,3,4,5]\n",
    "    e=(5,4)\n",
    "    \n",
    "print(detectlocal.__code__.co_nlocals)"
   ]
  },
  {
   "cell_type": "code",
   "execution_count": null,
   "metadata": {},
   "outputs": [],
   "source": []
  }
 ],
 "metadata": {
  "kernelspec": {
   "display_name": "Python 3 (ipykernel)",
   "language": "python",
   "name": "python3"
  },
  "language_info": {
   "codemirror_mode": {
    "name": "ipython",
    "version": 3
   },
   "file_extension": ".py",
   "mimetype": "text/x-python",
   "name": "python",
   "nbconvert_exporter": "python",
   "pygments_lexer": "ipython3",
   "version": "3.9.13"
  }
 },
 "nbformat": 4,
 "nbformat_minor": 2
}
