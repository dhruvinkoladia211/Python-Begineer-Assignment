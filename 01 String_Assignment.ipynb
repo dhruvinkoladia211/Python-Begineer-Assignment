{
 "cells": [
  {
   "cell_type": "markdown",
   "metadata": {
    "id": "tc_ua6b5_V3a"
   },
   "source": [
    "## Python Data Type: String - Exercises"
   ]
  },
  {
   "cell_type": "markdown",
   "metadata": {
    "id": "H6Tp83YV_V3m"
   },
   "source": [
    "#### 1. Write a Python program to count the number of characters (character frequency) in a string \n",
    "* Sample String : google.com'\n",
    "* Expected Result : {'o': 3, 'g': 2, '.': 1, 'e': 1, 'l': 1, 'm': 1, 'c': 1}"
   ]
  },
  {
   "cell_type": "code",
   "execution_count": 33,
   "metadata": {
    "executionInfo": {
     "elapsed": 405,
     "status": "ok",
     "timestamp": 1673007915972,
     "user": {
      "displayName": "Raj Yadav",
      "userId": "17883966751087890537"
     },
     "user_tz": -330
    },
    "id": "tJ4wcagx_V3n"
   },
   "outputs": [],
   "source": [
    "str1 = \"google.com\"   # result = {'o': 3, 'g': 2, '.': 1, 'e': 1, 'l': 1, 'm': 1, 'c': 1}\n",
    "\n",
    "# creating new empty dict\n",
    "str_dict = {}\n",
    "# access each char from string\n",
    "for val in str1:\n",
    "    if val not in str_dict:   # check if char present in str_dict or not\n",
    "        str_dict[val] = 1    # if char not in str_dict then add value to dict \n",
    "    else:\n",
    "        str_dict[val] = str_dict[val] + 1  # if char present in str_dict , increament value "
   ]
  },
  {
   "cell_type": "code",
   "execution_count": 34,
   "metadata": {
    "colab": {
     "base_uri": "https://localhost:8080/"
    },
    "executionInfo": {
     "elapsed": 371,
     "status": "ok",
     "timestamp": 1673007924157,
     "user": {
      "displayName": "Raj Yadav",
      "userId": "17883966751087890537"
     },
     "user_tz": -330
    },
    "id": "2bJZogQGCupc",
    "outputId": "4032649c-5fc6-4bed-be55-4c40db8a4f14"
   },
   "outputs": [
    {
     "data": {
      "text/plain": [
       "{'g': 2, 'o': 3, 'l': 1, 'e': 1, '.': 1, 'c': 1, 'm': 1}"
      ]
     },
     "execution_count": 34,
     "metadata": {},
     "output_type": "execute_result"
    }
   ],
   "source": [
    "str_dict"
   ]
  },
  {
   "cell_type": "markdown",
   "metadata": {
    "id": "_7RfubII_V3p"
   },
   "source": [
    "#### 2. Write a Python program to get a string from a given string where all occurrences of its first char have been changed to '$' ,except the first char itself\n",
    "\n",
    "* Sample String : 'restart'\n",
    "* Expected Result : 'resta$t' "
   ]
  },
  {
   "cell_type": "code",
   "execution_count": 28,
   "metadata": {
    "id": "UdiH8KvS_V3p"
   },
   "outputs": [
    {
     "data": {
      "text/plain": [
       "'resta$t'"
      ]
     },
     "execution_count": 28,
     "metadata": {},
     "output_type": "execute_result"
    }
   ],
   "source": [
    "sample = 'restart'\n",
    "char = sample[0]\n",
    "sample = sample.replace(char,'$')\n",
    "sample = char + sample[1:]\n",
    "sample"
   ]
  },
  {
   "cell_type": "markdown",
   "metadata": {
    "id": "91aTV7bw_V3q"
   },
   "source": [
    "#### 3. Write a Python function that takes a list of words and returns the length of the longest one"
   ]
  },
  {
   "cell_type": "code",
   "execution_count": 27,
   "metadata": {
    "id": "Y7SBOb5i_V3q"
   },
   "outputs": [
    {
     "name": "stdout",
     "output_type": "stream",
     "text": [
      "Longest word is  ArtificialInteligence\n",
      "Length of Longest word is  21\n"
     ]
    }
   ],
   "source": [
    "words = ['python','MachineLearning','ArtificialInteligence']\n",
    "W_len = []\n",
    "for n in words:\n",
    "    W_len.append((len(n),n))\n",
    "W_len\n",
    "print('Longest word is ',W_len[-1][1])\n",
    "print('Length of Longest word is ',W_len[-1][0])"
   ]
  },
  {
   "cell_type": "markdown",
   "metadata": {
    "id": "50ezQuLo_V3q"
   },
   "source": [
    "#### 4. Write a Python program to count the occurrences of each word in a given sentence"
   ]
  },
  {
   "cell_type": "code",
   "execution_count": 26,
   "metadata": {
    "id": "QmOmB7Bc_V3r"
   },
   "outputs": [
    {
     "name": "stdout",
     "output_type": "stream",
     "text": [
      "{'Write': 1, 'a': 1, 'Python': 1, 'program': 1, 'to': 1, 'count': 1, 'the': 2, 'occurrences': 1, 'of': 1, 'each': 1, 'word': 1, 'in': 1, 'given': 1, 'sentence': 1}\n"
     ]
    }
   ],
   "source": [
    "sample = \" Write a Python program to count the occurrences of each word in the given sentence\"\n",
    "sample = sample.split()\n",
    "sentance_dict = {}\n",
    "for words in sample:\n",
    "    if words not in sentance_dict:\n",
    "        sentance_dict[words] = 1\n",
    "    else:\n",
    "        sentance_dict[words] += 1\n",
    "print(sentance_dict)        "
   ]
  },
  {
   "cell_type": "markdown",
   "metadata": {
    "id": "IKDXDUjX_V3r"
   },
   "source": [
    "#### 5. Write a Python function to convert a given string to all uppercase if it contains at least 2 uppercase characters in the first 4 characters."
   ]
  },
  {
   "cell_type": "code",
   "execution_count": 3,
   "metadata": {
    "id": "we8i5X8a_V3s"
   },
   "outputs": [
    {
     "name": "stdout",
     "output_type": "stream",
     "text": [
      "MACHINELEARNING\n"
     ]
    }
   ],
   "source": [
    "str1 = 'MaChineLearning'\n",
    "upper_no = 0\n",
    "sample_str1 = str1[:4]\n",
    "for val in sample_str1:\n",
    "    if val.isupper():\n",
    "        upper_no +=1\n",
    "if upper_no >= 2:\n",
    "        print(str1.upper())\n",
    "else:\n",
    "    print(str1)"
   ]
  },
  {
   "cell_type": "markdown",
   "metadata": {
    "id": "CooDJ_8C_V3s"
   },
   "source": [
    "#### 6. Write a Python program to count and display the vowels of a given text"
   ]
  },
  {
   "cell_type": "code",
   "execution_count": 5,
   "metadata": {
    "id": "Qa1Gl7xx_V3t"
   },
   "outputs": [
    {
     "name": "stdout",
     "output_type": "stream",
     "text": [
      "{'a': 3, 'i': 5, 'e': 4, 'o': 1, 'u': 1}\n"
     ]
    }
   ],
   "source": [
    "sample = 'Data Science is most demanding feild in 2021 u'\n",
    "sample = sample.lower()\n",
    "dict1 = {}\n",
    "vowels = 'aeiou'\n",
    "for x in sample:\n",
    "    if x in vowels:\n",
    "        if x not in dict1:\n",
    "            dict1[x] = 1\n",
    "        else:\n",
    "            dict1[x]+=1\n",
    "print(dict1)                 "
   ]
  }
 ],
 "metadata": {
  "colab": {
   "provenance": []
  },
  "kernelspec": {
   "display_name": "Python 3 (ipykernel)",
   "language": "python",
   "name": "python3"
  },
  "language_info": {
   "codemirror_mode": {
    "name": "ipython",
    "version": 3
   },
   "file_extension": ".py",
   "mimetype": "text/x-python",
   "name": "python",
   "nbconvert_exporter": "python",
   "pygments_lexer": "ipython3",
   "version": "3.9.13"
  }
 },
 "nbformat": 4,
 "nbformat_minor": 1
}
