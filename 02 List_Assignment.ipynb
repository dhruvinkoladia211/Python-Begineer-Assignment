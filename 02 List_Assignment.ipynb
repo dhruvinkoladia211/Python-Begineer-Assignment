{
 "cells": [
  {
   "cell_type": "markdown",
   "metadata": {
    "id": "U62k7wnJFx6V"
   },
   "source": [
    "## Python Data Type: List - Exercises"
   ]
  },
  {
   "cell_type": "markdown",
   "metadata": {
    "id": "hxgDfOHBFx6b"
   },
   "source": [
    "#### 1. Write a Python program to check a list is empty or not"
   ]
  },
  {
   "cell_type": "code",
   "execution_count": 23,
   "metadata": {
    "colab": {
     "base_uri": "https://localhost:8080/"
    },
    "executionInfo": {
     "elapsed": 408,
     "status": "ok",
     "timestamp": 1673092737381,
     "user": {
      "displayName": "Raj Yadav",
      "userId": "17883966751087890537"
     },
     "user_tz": -330
    },
    "id": "o0o4VS9WFx6c",
    "outputId": "a6bd3d24-a662-42f3-94bc-41ee1f1e2a50"
   },
   "outputs": [
    {
     "name": "stdout",
     "output_type": "stream",
     "text": [
      "List is not empty'\n"
     ]
    }
   ],
   "source": [
    "listelement = ['python ,machine ,learning']\n",
    "if len(listelement) > 0:\n",
    "    print(\"List is not empty'\")\n",
    "else:\n",
    "    print ('list is empty')"
   ]
  },
  {
   "cell_type": "markdown",
   "metadata": {
    "id": "dfNGeS9GFx6d"
   },
   "source": [
    "#### 2. Write a Python program to remove duplicates from a list."
   ]
  },
  {
   "cell_type": "code",
   "execution_count": 1,
   "metadata": {
    "colab": {
     "base_uri": "https://localhost:8080/"
    },
    "executionInfo": {
     "elapsed": 12,
     "status": "ok",
     "timestamp": 1673093597746,
     "user": {
      "displayName": "Raj Yadav",
      "userId": "17883966751087890537"
     },
     "user_tz": -330
    },
    "id": "v8oM95AmJdBK",
    "outputId": "f3de4d07-91bb-40e8-cf96-ecf3b0c14bc1"
   },
   "outputs": [
    {
     "data": {
      "text/plain": [
       "{'learning', 'machine', 'python'}"
      ]
     },
     "execution_count": 1,
     "metadata": {},
     "output_type": "execute_result"
    }
   ],
   "source": [
    "#METHOD-1\n",
    "listelement = ['python','machine','learning','python' ]\n",
    "set(listelement)"
   ]
  },
  {
   "cell_type": "code",
   "execution_count": 2,
   "metadata": {
    "colab": {
     "base_uri": "https://localhost:8080/"
    },
    "executionInfo": {
     "elapsed": 411,
     "status": "ok",
     "timestamp": 1673093542574,
     "user": {
      "displayName": "Raj Yadav",
      "userId": "17883966751087890537"
     },
     "user_tz": -330
    },
    "id": "zN592kgNFx6e",
    "outputId": "c70c1aed-f294-4f3f-b93d-953ee1b055a0"
   },
   "outputs": [
    {
     "name": "stdout",
     "output_type": "stream",
     "text": [
      "['python', 'machine', 'learning']\n"
     ]
    }
   ],
   "source": [
    "#METHOD-2\n",
    "listelement = ['python','machine','learning','python' ]\n",
    "emplist=[]\n",
    "for ele in listelement:\n",
    "    if ele not in emplist:\n",
    "        emplist.append(ele)\n",
    "print(emplist)"
   ]
  },
  {
   "cell_type": "markdown",
   "metadata": {
    "id": "JD6VBhMuFx6e"
   },
   "source": [
    "#### 3. Write a Python function that takes two lists and returns True if they have at least one common member"
   ]
  },
  {
   "cell_type": "code",
   "execution_count": 3,
   "metadata": {
    "colab": {
     "base_uri": "https://localhost:8080/"
    },
    "executionInfo": {
     "elapsed": 402,
     "status": "ok",
     "timestamp": 1673093808987,
     "user": {
      "displayName": "Raj Yadav",
      "userId": "17883966751087890537"
     },
     "user_tz": -330
    },
    "id": "aYJVvdC_Fx6f",
    "outputId": "4d68c81a-11c8-433f-f0c4-3941d410078a"
   },
   "outputs": [
    {
     "name": "stdout",
     "output_type": "stream",
     "text": [
      "False\n"
     ]
    }
   ],
   "source": [
    "li1 = [2,3,4,5,6]\n",
    "li2 = [7,8]\n",
    "\n",
    "is_common = False\n",
    "for val in li1:\n",
    "    if val in li2:\n",
    "        is_common = True\n",
    "    break\n",
    "\n",
    "print(is_common)\n",
    "  "
   ]
  },
  {
   "cell_type": "markdown",
   "metadata": {
    "id": "cLxFJk2HFx6f"
   },
   "source": [
    "#### 4. Write a Python program to get the difference between the two lists"
   ]
  },
  {
   "cell_type": "code",
   "execution_count": 3,
   "metadata": {
    "id": "XvafBd1AFx6g"
   },
   "outputs": [
    {
     "data": {
      "text/plain": [
       "[40, 20, 30, 15]"
      ]
     },
     "execution_count": 3,
     "metadata": {},
     "output_type": "execute_result"
    }
   ],
   "source": [
    "#METHOD-1\n",
    "li1= set([10,15,20,25,30,35,40])\n",
    "li2= set([10,25,35])\n",
    "list(li1-li2)\n"
   ]
  },
  {
   "cell_type": "code",
   "execution_count": 4,
   "metadata": {},
   "outputs": [
    {
     "name": "stdout",
     "output_type": "stream",
     "text": [
      "40 15 20 30 "
     ]
    }
   ],
   "source": [
    "#METHOD-2\n",
    "li1= set([10,15,20,25,30,35,40])\n",
    "li2= set([10,25,35])\n",
    "list3 = []\n",
    "for x in li1:\n",
    "    if x not in li2:\n",
    "        print(x,end=\" \")        "
   ]
  },
  {
   "cell_type": "markdown",
   "metadata": {
    "id": "a8Q7CpADFx6h"
   },
   "source": [
    "#### 5. Write a Python program to find the second smallest number in a list"
   ]
  },
  {
   "cell_type": "code",
   "execution_count": 7,
   "metadata": {
    "id": "n6U3ljZxFx6i"
   },
   "outputs": [
    {
     "name": "stdout",
     "output_type": "stream",
     "text": [
      "Second smallest number is:  20\n"
     ]
    }
   ],
   "source": [
    "li1 = [10,20,30,40,50]\n",
    "li1.sort()\n",
    "print('Second smallest number is: ',li1[1])    "
   ]
  },
  {
   "cell_type": "markdown",
   "metadata": {
    "id": "zB3YiVmXFx6j"
   },
   "source": [
    "#### 6.  Write a Python program to find the second largest number in a list."
   ]
  },
  {
   "cell_type": "code",
   "execution_count": 11,
   "metadata": {
    "id": "dSVclBJSFx6k"
   },
   "outputs": [
    {
     "name": "stdout",
     "output_type": "stream",
     "text": [
      "Second largest number is:  40\n"
     ]
    }
   ],
   "source": [
    "li1 = [10,20,30,40,50]\n",
    "li1.sort()\n",
    "print('Second largest number is: ',li1[-2])"
   ]
  },
  {
   "cell_type": "markdown",
   "metadata": {
    "id": "M-KCYIqJFx6l"
   },
   "source": [
    "#### 7. Write a Python program to get the frequency of the elements in a list"
   ]
  },
  {
   "cell_type": "code",
   "execution_count": 19,
   "metadata": {
    "id": "_s9Jg9r4Fx6l"
   },
   "outputs": [
    {
     "name": "stdout",
     "output_type": "stream",
     "text": [
      "{10: 3, 20: 2, 30: 2, 25: 5}\n"
     ]
    }
   ],
   "source": [
    "sample = [10,10,10,20,20,30,30,25,25,25,25,25]\n",
    "dict1 = {}\n",
    "for val in sample:\n",
    "    if val not in dict1:\n",
    "        dict1[val] = 1\n",
    "    else:\n",
    "        dict1[val] += 1\n",
    "print(dict1)        "
   ]
  },
  {
   "cell_type": "markdown",
   "metadata": {
    "id": "qhul4M9qFx6l"
   },
   "source": [
    "#### 8. Write a Python program to convert a list of multiple integers into a single integer\n",
    "* Sample list: [11, 33, 50]\n",
    "* Expected Output: 113350"
   ]
  },
  {
   "cell_type": "code",
   "execution_count": 17,
   "metadata": {
    "id": "K4vYquxvFx6m"
   },
   "outputs": [
    {
     "name": "stdout",
     "output_type": "stream",
     "text": [
      "113350"
     ]
    }
   ],
   "source": [
    "sample_list = [11, 33, 50]\n",
    "for result in sample_list:\n",
    "    print(result,end='')"
   ]
  },
  {
   "cell_type": "markdown",
   "metadata": {
    "id": "sOTLKGxLFx6m"
   },
   "source": [
    "#### 9. Write a Python program to compute the similarity between two lists.\n",
    "* Sample data: [\"red\", \"orange\", \"green\", \"blue\", \"white\"], [\"black\", \"yellow\", \"green\", \"blue\"]\n",
    "* Expected Output: \n",
    "* Color1-Color2: ['white', 'orange', 'red']\n",
    "* Color2-Color1: ['black', 'yellow']"
   ]
  },
  {
   "cell_type": "code",
   "execution_count": 10,
   "metadata": {
    "id": "3UemvbvhFx6n"
   },
   "outputs": [
    {
     "name": "stdout",
     "output_type": "stream",
     "text": [
      "{'red', 'orange', 'white'}\n",
      "{'yellow', 'black'}\n"
     ]
    }
   ],
   "source": [
    "li1 = set([\"red\", \"orange\", \"green\", \"blue\", \"white\"])\n",
    "li2 = set([\"black\", \"yellow\", \"green\", \"blue\"])\n",
    "print(li1-li2)\n",
    "print(li2-li1)"
   ]
  },
  {
   "cell_type": "markdown",
   "metadata": {
    "id": "UAD1ft2_Fx6n"
   },
   "source": [
    "#### 10. Write a Python program to check if all dictionaries in a list are empty or not.\n",
    "* Sample list : [{},{},{}]\n",
    "* Return value : True\n",
    "* Sample list : [{1:2},{},{}]\n",
    "* Return value : False"
   ]
  },
  {
   "cell_type": "code",
   "execution_count": 5,
   "metadata": {
    "colab": {
     "base_uri": "https://localhost:8080/"
    },
    "executionInfo": {
     "elapsed": 402,
     "status": "ok",
     "timestamp": 1673094303073,
     "user": {
      "displayName": "Raj Yadav",
      "userId": "17883966751087890537"
     },
     "user_tz": -330
    },
    "id": "1ujHvlFKFx6o",
    "outputId": "2bda7070-b265-4656-e5a7-b8bebf3834a1"
   },
   "outputs": [
    {
     "name": "stdout",
     "output_type": "stream",
     "text": [
      "True\n"
     ]
    }
   ],
   "source": [
    "list_dict = [{},{},{}]\n",
    "\n",
    "is_empty = True\n",
    "for dict1 in list_dict:\n",
    "    if dict1:\n",
    "        is_empty = False\n",
    "\n",
    "\n",
    "print(is_empty)\n",
    "  "
   ]
  }
 ],
 "metadata": {
  "colab": {
   "provenance": []
  },
  "kernelspec": {
   "display_name": "Python 3 (ipykernel)",
   "language": "python",
   "name": "python3"
  },
  "language_info": {
   "codemirror_mode": {
    "name": "ipython",
    "version": 3
   },
   "file_extension": ".py",
   "mimetype": "text/x-python",
   "name": "python",
   "nbconvert_exporter": "python",
   "pygments_lexer": "ipython3",
   "version": "3.9.13"
  }
 },
 "nbformat": 4,
 "nbformat_minor": 1
}
